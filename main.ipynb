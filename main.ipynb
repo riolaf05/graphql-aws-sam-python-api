{
 "cells": [
  {
   "cell_type": "code",
   "execution_count": 1,
   "metadata": {},
   "outputs": [],
   "source": [
    "import json\n",
    "import os\n",
    "from boto3 import Session as AWSSession\n",
    "from requests_aws4auth import AWS4Auth\n",
    "from dotenv import load_dotenv\n",
    "load_dotenv(override=True)\n",
    "from gql import gql\n",
    "from gql.client import Client\n",
    "from gql.transport.requests import RequestsHTTPTransport\n",
    "from queries import get_appsync_objs, get_appsync_obj, add_appsync_obj\n",
    "from datetime import datetime"
   ]
  },
  {
   "cell_type": "code",
   "execution_count": 2,
   "metadata": {},
   "outputs": [],
   "source": [
    "import requests\n",
    "\n",
    "session = requests.Session()\n",
    "\n",
    "APPSYNC_API_ENDPOINT_URL = os.getenv('APPSYNC_ENDPOINT')\n",
    "API_KEY = os.getenv('APPSYNC_API_KEY')\n"
   ]
  },
  {
   "cell_type": "code",
   "execution_count": 3,
   "metadata": {},
   "outputs": [
    {
     "name": "stdout",
     "output_type": "stream",
     "text": [
      "\n",
      "mutation MyMutation {\n",
      "  createSingleNote(date: \"2024-06-28T15:13:27.442Z\", extraction: \"Esempio di estrazione 1\", summary: \"Questo è un breve riassunto del contenuto 1.\", title: \"Titolo dell'estratto 1\") {\n",
      "    id\n",
      "  }\n",
      "}\n",
      "\n"
     ]
    }
   ],
   "source": [
    "date_value = datetime.now().strftime('%Y-%m-%dT%H:%M:%S.%f')[:-3] + 'Z'\n",
    "extraction_value = \"Esempio di estrazione 1\"\n",
    "summary_value = \"Questo è un breve riassunto del contenuto 1.\"\n",
    "title_value = \"Titolo dell'estratto 1\"\n",
    "\n",
    "query = add_appsync_obj % (date_value, extraction_value, summary_value, title_value)\n",
    "print(query)"
   ]
  },
  {
   "cell_type": "code",
   "execution_count": 4,
   "metadata": {},
   "outputs": [],
   "source": [
    "response = session.request( url=APPSYNC_API_ENDPOINT_URL, method='POST', headers={'x-api-key': API_KEY}  ,json={'query': query})"
   ]
  },
  {
   "cell_type": "code",
   "execution_count": 5,
   "metadata": {},
   "outputs": [
    {
     "name": "stdout",
     "output_type": "stream",
     "text": [
      "{'data': {'createSingleNote': {'id': 'bb0635d0-c559-43a1-946e-ebfb16559688'}}}\n"
     ]
    }
   ],
   "source": [
    "print(response.json())"
   ]
  },
  {
   "cell_type": "code",
   "execution_count": 6,
   "metadata": {},
   "outputs": [
    {
     "name": "stdout",
     "output_type": "stream",
     "text": [
      "\n",
      "query MyQuery {\n",
      "  getAllNotes {\n",
      "    id\n",
      "    date\n",
      "    extraction\n",
      "    summary\n",
      "    title\n",
      "  }\n",
      "}\n",
      "\n"
     ]
    }
   ],
   "source": [
    "query = get_appsync_objs\n",
    "print(query)\n"
   ]
  },
  {
   "cell_type": "code",
   "execution_count": 7,
   "metadata": {},
   "outputs": [
    {
     "name": "stdout",
     "output_type": "stream",
     "text": [
      "{\n",
      "  \"getAllNotes\": [\n",
      "    {\n",
      "      \"id\": \"9d59f860-9f21-4800-92e0-f3cf52362926\",\n",
      "      \"date\": \"2024-06-28T14:10:28.096Z\",\n",
      "      \"extraction\": \"Esempio di estrazione 1\",\n",
      "      \"summary\": \"Questo \\u00e8 un breve riassunto del contenuto 1.\",\n",
      "      \"title\": \"Titolo dell'estratto 1\"\n",
      "    },\n",
      "    {\n",
      "      \"id\": \"e3e0ede1-ecb2-4806-9896-dd65f3fefa33\",\n",
      "      \"date\": \"2024-06-28T15:10:18.587Z\",\n",
      "      \"extraction\": \"Esempio di estrazione 1\",\n",
      "      \"summary\": \"Questo \\u00e8 un breve riassunto del contenuto 1.\",\n",
      "      \"title\": \"Titolo dell'estratto 1\"\n",
      "    },\n",
      "    {\n",
      "      \"id\": \"b59ade40-cd05-46b3-ab67-c4e97462e57b\",\n",
      "      \"date\": \"2024-06-28T15:09:28.699Z\",\n",
      "      \"extraction\": \"Esempio di estrazione 1\",\n",
      "      \"summary\": \"Questo \\u00e8 un breve riassunto del contenuto 1.\",\n",
      "      \"title\": \"Titolo dell'estratto 1\"\n",
      "    },\n",
      "    {\n",
      "      \"id\": \"69dc6d2f-b874-4ce7-b0fd-d29cf8fe0065\",\n",
      "      \"date\": \"2024-06-28T14:10:28.096Z\",\n",
      "      \"extraction\": \"Esempio di estrazione 1\",\n",
      "      \"summary\": \"Questo \\u00e8 un breve riassunto del contenuto 1.\",\n",
      "      \"title\": \"Titolo dell'estratto 1\"\n",
      "    },\n",
      "    {\n",
      "      \"id\": \"18bf149b-22ce-480d-9f19-dbf23db95ccb\",\n",
      "      \"date\": \"2024-06-28T14:32:08.076Z\",\n",
      "      \"extraction\": \"Esempio di estrazione 1\",\n",
      "      \"summary\": \"Questo \\u00e8 un breve riassunto del contenuto 1.\",\n",
      "      \"title\": \"Titolo dell'estratto 1\"\n",
      "    },\n",
      "    {\n",
      "      \"id\": \"5f61a26d-cfe0-48d0-9bb5-e79a0587f0d6\",\n",
      "      \"date\": \"2024-06-28T15:06:15.182Z\",\n",
      "      \"extraction\": \"Esempio di estrazione 1\",\n",
      "      \"summary\": \"Questo \\u00e8 un breve riassunto del contenuto 1.\",\n",
      "      \"title\": \"Titolo dell'estratto 1\"\n",
      "    },\n",
      "    {\n",
      "      \"id\": \"24954eb8-7ba8-47a9-9bfc-37beee23144e\",\n",
      "      \"date\": \"2024-06-28T14:32:08.076Z\",\n",
      "      \"extraction\": \"Esempio di estrazione 1\",\n",
      "      \"summary\": \"Questo \\u00e8 un breve riassunto del contenuto 1.\",\n",
      "      \"title\": \"Titolo dell'estratto 1\"\n",
      "    },\n",
      "    {\n",
      "      \"id\": \"bb0635d0-c559-43a1-946e-ebfb16559688\",\n",
      "      \"date\": \"2024-06-28T15:13:27.442Z\",\n",
      "      \"extraction\": \"Esempio di estrazione 1\",\n",
      "      \"summary\": \"Questo \\u00e8 un breve riassunto del contenuto 1.\",\n",
      "      \"title\": \"Titolo dell'estratto 1\"\n",
      "    }\n",
      "  ]\n",
      "}\n"
     ]
    }
   ],
   "source": [
    "response = session.request( url=APPSYNC_API_ENDPOINT_URL, method='POST', headers={'x-api-key': API_KEY}  ,json={'query': query})\n",
    "print(json.dumps(response.json()['data'], indent=2))"
   ]
  },
  {
   "cell_type": "code",
   "execution_count": 8,
   "metadata": {},
   "outputs": [
    {
     "name": "stdout",
     "output_type": "stream",
     "text": [
      "\n",
      "query MyQuery {\n",
      "  getSingleNote(id: \"e3e0ede1-ecb2-4806-9896-dd65f3fefa33\") {\n",
      "    id\n",
      "    date\n",
      "    extraction\n",
      "    summary\n",
      "    title\n",
      "  }\n",
      "}\n",
      "\n",
      "\n"
     ]
    }
   ],
   "source": [
    "query = get_appsync_obj % \"e3e0ede1-ecb2-4806-9896-dd65f3fefa33\"\n",
    "print(query)\n"
   ]
  },
  {
   "cell_type": "code",
   "execution_count": 9,
   "metadata": {},
   "outputs": [
    {
     "name": "stdout",
     "output_type": "stream",
     "text": [
      "{\n",
      "  \"getSingleNote\": {\n",
      "    \"id\": \"e3e0ede1-ecb2-4806-9896-dd65f3fefa33\",\n",
      "    \"date\": \"2024-06-28T15:10:18.587Z\",\n",
      "    \"extraction\": \"Esempio di estrazione 1\",\n",
      "    \"summary\": \"Questo \\u00e8 un breve riassunto del contenuto 1.\",\n",
      "    \"title\": \"Titolo dell'estratto 1\"\n",
      "  }\n",
      "}\n"
     ]
    }
   ],
   "source": [
    "response = session.request( url=APPSYNC_API_ENDPOINT_URL, method='POST', headers={'x-api-key': API_KEY}  ,json={'query': query})\n",
    "print(json.dumps(response.json()['data'], indent=2))"
   ]
  }
 ],
 "metadata": {
  "kernelspec": {
   "display_name": ".venv",
   "language": "python",
   "name": "python3"
  },
  "language_info": {
   "codemirror_mode": {
    "name": "ipython",
    "version": 3
   },
   "file_extension": ".py",
   "mimetype": "text/x-python",
   "name": "python",
   "nbconvert_exporter": "python",
   "pygments_lexer": "ipython3",
   "version": "3.11.9"
  }
 },
 "nbformat": 4,
 "nbformat_minor": 2
}
